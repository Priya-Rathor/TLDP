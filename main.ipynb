{
 "cells": [
  {
   "cell_type": "code",
   "execution_count": null,
   "id": "a80558e1",
   "metadata": {},
   "outputs": [],
   "source": [
    "from pptx import Presentation\n",
    "\n",
    "# Load your PPT template\n",
    "prs = Presentation(\"template.pptx\")\n",
    "\n",
    "\n",
    "\n",
    "# Example content\n",
    "slide_content = [\n",
    "    {\"title\": \"Project: CodeStorm\", \"body\": \"Unleash your creativity with code.\"},\n",
    "    {\"title\": \"What is this project?\", \"body\": \"A web-based challenge to build creative apps.\"},\n",
    "    {\"title\": \"Why join?\", \"body\": \"Learn React, work in teams, and win prizes.\"},\n",
    "    {\"title\": \"How to apply\", \"body\": \"Signup by April 5. Teams of 2-4. All juniors welcome.\"},\n",
    "    {\"title\": \"Contact\", \"body\": \"Reach us at hello@yourorg.com or click the link below.\"},\n",
    "]\n",
    "\n",
    "\n",
    "\n",
    "\n",
    "\n",
    "\n",
    "# Apply content to slides\n",
    "for i, content in enumerate(slide_content):\n",
    "    slide = prs.slides[i]\n",
    "    slide.shapes.title.text = content[\"title\"]\n",
    "    slide.placeholders[1].text = content[\"body\"]\n",
    "\n",
    "prs.save(\"New_Project_Announcement.pptx\")\n"
   ]
  },
  {
   "cell_type": "code",
   "execution_count": 2,
   "id": "05d890f2",
   "metadata": {},
   "outputs": [
    {
     "name": "stdout",
     "output_type": "stream",
     "text": [
      "Collecting python-pptx\n",
      "  Downloading python_pptx-1.0.2-py3-none-any.whl.metadata (2.5 kB)\n",
      "Requirement already satisfied: Pillow>=3.3.2 in c:\\users\\user\\appdata\\local\\programs\\python\\python310\\lib\\site-packages (from python-pptx) (11.1.0)\n",
      "Collecting XlsxWriter>=0.5.7 (from python-pptx)\n",
      "  Downloading XlsxWriter-3.2.3-py3-none-any.whl.metadata (2.7 kB)\n",
      "Requirement already satisfied: lxml>=3.1.0 in c:\\users\\user\\appdata\\local\\programs\\python\\python310\\lib\\site-packages (from python-pptx) (5.3.0)\n",
      "Requirement already satisfied: typing-extensions>=4.9.0 in c:\\users\\user\\appdata\\local\\programs\\python\\python310\\lib\\site-packages (from python-pptx) (4.12.2)\n",
      "Downloading python_pptx-1.0.2-py3-none-any.whl (472 kB)\n",
      "Downloading XlsxWriter-3.2.3-py3-none-any.whl (169 kB)\n",
      "Installing collected packages: XlsxWriter, python-pptx\n",
      "Successfully installed XlsxWriter-3.2.3 python-pptx-1.0.2\n"
     ]
    },
    {
     "name": "stderr",
     "output_type": "stream",
     "text": [
      "WARNING: Ignoring invalid distribution -umpy (c:\\users\\user\\appdata\\local\\programs\\python\\python310\\lib\\site-packages)\n",
      "WARNING: Ignoring invalid distribution -umpy (c:\\users\\user\\appdata\\local\\programs\\python\\python310\\lib\\site-packages)\n",
      "WARNING: Ignoring invalid distribution -umpy (c:\\users\\user\\appdata\\local\\programs\\python\\python310\\lib\\site-packages)\n",
      "\n",
      "[notice] A new release of pip is available: 25.0.1 -> 25.1\n",
      "[notice] To update, run: python.exe -m pip install --upgrade pip\n"
     ]
    }
   ],
   "source": [
    "!pip install python-pptx\n"
   ]
  },
  {
   "cell_type": "code",
   "execution_count": 2,
   "id": "35991125",
   "metadata": {},
   "outputs": [],
   "source": [
    "from pptx import Presentation\n",
    "\n",
    "# Load your PPTX\n",
    "prs = Presentation(\"TLDP Turquoise Singapore.pptx\")\n",
    "\n",
    "# Your content\n",
    "slide_content = [\n",
    "    {\"title\": \"Project: CodeStorm\", \"body\": \"Unleash your creativity with code.\"},\n",
    "    {\"title\": \"What is this project?\", \"body\": \"A web-based challenge to build creative apps.\"},\n",
    "    {\"title\": \"Why join?\", \"body\": \"Learn React, work in teams, and win prizes.\"},\n",
    "    {\"title\": \"How to apply\", \"body\": \"Signup by April 5. Teams of 2-4. All juniors welcome.\"},\n",
    "    {\"title\": \"Contact\", \"body\": \"Reach us at hello@yourorg.com or click the link below.\"},\n",
    "]\n",
    "\n",
    "# Loop and update\n",
    "for i, content in enumerate(slide_content):\n",
    "    if i >= len(prs.slides):\n",
    "        break\n",
    "\n",
    "    slide = prs.slides[i]\n",
    "\n",
    "    # Update title\n",
    "    if slide.shapes.title:\n",
    "        slide.shapes.title.text = content[\"title\"]\n",
    "\n",
    "    # Update the first non-title text box (skip title shape)\n",
    "    updated = False\n",
    "    for shape in slide.shapes:\n",
    "        if shape.has_text_frame and shape != slide.shapes.title:\n",
    "            shape.text = content[\"body\"]\n",
    "            updated = True\n",
    "            break\n",
    "\n",
    "    if not updated:\n",
    "        print(f\"No suitable textbox found for body text on slide {i + 1}.\")\n",
    "\n",
    "# Save result\n",
    "prs.save(\"Updated_TLDP_Project.pptx\")\n"
   ]
  },
  {
   "cell_type": "code",
   "execution_count": null,
   "id": "aa8bde8e",
   "metadata": {},
   "outputs": [],
   "source": []
  }
 ],
 "metadata": {
  "kernelspec": {
   "display_name": "Python 3",
   "language": "python",
   "name": "python3"
  },
  "language_info": {
   "codemirror_mode": {
    "name": "ipython",
    "version": 3
   },
   "file_extension": ".py",
   "mimetype": "text/x-python",
   "name": "python",
   "nbconvert_exporter": "python",
   "pygments_lexer": "ipython3",
   "version": "3.10.3"
  }
 },
 "nbformat": 4,
 "nbformat_minor": 5
}
